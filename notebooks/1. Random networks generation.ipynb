{
 "cells": [
  {
   "cell_type": "markdown",
   "metadata": {
    "id": "8qFnRKhgltQN"
   },
   "source": [
    "## Tutorial do biblioteki networkx"
   ]
  },
  {
   "cell_type": "code",
   "execution_count": null,
   "metadata": {
    "id": "dbhnf642F0vg"
   },
   "outputs": [],
   "source": [
    "import networkx as nx\n",
    "import matplotlib.pyplot as plt\n",
    "import numpy as np"
   ]
  },
  {
   "cell_type": "code",
   "execution_count": null,
   "metadata": {
    "colab": {
     "base_uri": "https://localhost:8080/",
     "height": 336
    },
    "id": "1ByqqjxcWm5t",
    "outputId": "d7283d1e-9479-46d0-da06-1c78841f43e1"
   },
   "outputs": [],
   "source": [
    "G = nx.Graph()\n",
    "\n",
    "# lets add some nodes\n",
    "G.add_node(1)\n",
    "G.add_nodes_from([2, 3])\n",
    "G.add_nodes_from([\n",
    "    (4, {\"color\": \"red\"}),\n",
    "    (5, {\"color\": \"green\"}),\n",
    "])\n",
    "\n",
    "# lets check the label for node 4\n",
    "color=nx.get_node_attributes(G,'color')\n",
    "print(color[4])\n",
    "\n",
    "# adding some edges\n",
    "G.add_edge(1, 2)\n",
    "G.add_edges_from([(1, 3), (4, 5)])\n",
    "\n",
    "nx.draw(G, with_labels=True)\n",
    "plt.draw()"
   ]
  },
  {
   "cell_type": "code",
   "execution_count": null,
   "metadata": {
    "colab": {
     "base_uri": "https://localhost:8080/",
     "height": 354
    },
    "id": "vEgmSd_dYsvB",
    "outputId": "7a19b480-aab4-445d-d5c1-5d2bd5fa883c"
   },
   "outputs": [],
   "source": [
    "# creating path graph H with 10 nodes and adding it as a subgraph to G\n",
    "H = nx.path_graph(10)\n",
    "G.add_node(H)\n",
    "\n",
    "print(list(G.nodes))\n",
    "nx.draw(G, with_labels=True)\n",
    "plt.plot()"
   ]
  },
  {
   "cell_type": "code",
   "execution_count": null,
   "metadata": {
    "colab": {
     "base_uri": "https://localhost:8080/",
     "height": 354
    },
    "id": "hPGQhSYiiHRq",
    "outputId": "ab8d55c1-3013-4a33-a947-42fcb961355e"
   },
   "outputs": [],
   "source": [
    "G.add_nodes_from(\"abcd\")\n",
    "G.remove_node('b')\n",
    "\n",
    "# neighbours of vertex with label 1\n",
    "print(G[1])\n",
    "\n",
    "nx.draw(G, with_labels=True)\n",
    "plt.plot()"
   ]
  },
  {
   "cell_type": "code",
   "execution_count": null,
   "metadata": {
    "colab": {
     "base_uri": "https://localhost:8080/",
     "height": 52
    },
    "id": "IYrVIAsSjW6N",
    "outputId": "3c0b49cf-261c-44cd-cc2b-9a8a37b7f15c"
   },
   "outputs": [],
   "source": [
    "# lets create directed graph\n",
    "DG = nx.DiGraph()\n",
    "DG.add_weighted_edges_from([(1, 2, 0.5), (3, 1, 0.75)])\n",
    "DG.out_degree(1, weight='weight')\n",
    "\n",
    "print(DG.degree(1, weight='weight'))\n",
    "print(list(DG.successors(1)))"
   ]
  },
  {
   "cell_type": "markdown",
   "metadata": {
    "id": "dZjB0RS4lRtB"
   },
   "source": [
    "## Model Barabási–Albert"
   ]
  },
  {
   "cell_type": "markdown",
   "metadata": {
    "id": "LTw1fYhblRcK"
   },
   "source": [
    "#### ***G(n, m)***"
   ]
  },
  {
   "cell_type": "code",
   "execution_count": null,
   "metadata": {
    "colab": {
     "base_uri": "https://localhost:8080/",
     "height": 786
    },
    "id": "cjOTWpvuzn4G",
    "outputId": "76104fc5-b31c-4ad6-af59-d1b1c193a38b"
   },
   "outputs": [],
   "source": [
    "n = 30   # 30 nodes\n",
    "m = 2    # each node is joined with 2 neighbors\n",
    "\n",
    "G = nx.barabasi_albert_graph(n, m)\n",
    "\n",
    "pos = nx.kamada_kawai_layout(G)\n",
    "node_sizes = []\n",
    "node_labels = {}\n",
    "\n",
    "# some properties\n",
    "print(\"node | degree | clustering\")\n",
    "for v in nx.nodes(G):\n",
    "    print(f\"{str(v).ljust(4)} | {str(nx.degree(G, v)).ljust(6)} | {nx.clustering(G, v)}\")\n",
    "\n",
    "for v in nx.nodes(G):\n",
    "  node_sizes.append(nx.degree(G, v) * 100)\n",
    "  node_labels[v] = nx.degree(G, v)\n",
    "\n",
    "# plotting network with node thickness proportional to its degree\n",
    "nx.draw_networkx_labels(G, pos, node_labels)\n",
    "nx.draw(G, pos, with_labels=False, node_size=node_sizes)"
   ]
  },
  {
   "cell_type": "code",
   "execution_count": null,
   "metadata": {
    "colab": {
     "base_uri": "https://localhost:8080/",
     "height": 607
    },
    "id": "scQ2MGJjmOB0",
    "outputId": "ba2df80d-cd1d-458b-b94a-860eafc49fff"
   },
   "outputs": [],
   "source": [
    "n = 300   # 300 nodes\n",
    "m = 1    # each node is joined with 1 neighbour\n",
    "\n",
    "G = nx.barabasi_albert_graph(n, m)\n",
    "\n",
    "pos = nx.kamada_kawai_layout(G)\n",
    "node_sizes = []\n",
    "node_labels = {}\n",
    "\n",
    "for v in nx.nodes(G):\n",
    "  node_sizes.append(nx.degree(G, v))\n",
    "  node_labels[v] = nx.degree(G, v)\n",
    "\n",
    "\n",
    "# network with node thickness proportional to its degree\n",
    "plt.figure(figsize=(20,10))\n",
    "plt.subplot(121)\n",
    "nx.draw_networkx_labels(G, pos, node_labels)\n",
    "nx.draw(G, pos, with_labels=False, node_size=[i*100 for i in node_sizes])\n",
    "\n",
    "# distribution of node degrees\n",
    "a = np.array(node_sizes) \n",
    "plt.subplot(122)\n",
    "plt.hist(a, bins = max(node_sizes)) \n",
    "plt.title(\"Degree distribution\") \n",
    "plt.show()"
   ]
  },
  {
   "cell_type": "markdown",
   "metadata": {
    "id": "qO8vl5ilKiDW"
   },
   "source": [
    "## Model Erdős–Rényi\n"
   ]
  },
  {
   "cell_type": "markdown",
   "metadata": {
    "id": "ZdGzvYDiKxwY"
   },
   "source": [
    "#### ***G(n, M)***"
   ]
  },
  {
   "cell_type": "code",
   "execution_count": null,
   "metadata": {
    "colab": {
     "base_uri": "https://localhost:8080/",
     "height": 510
    },
    "id": "e5a3XYulFwhZ",
    "outputId": "b4cf11d4-af8b-4eff-a73e-b5c56623bb1f"
   },
   "outputs": [],
   "source": [
    "n = 10  # 10 nodes\n",
    "m = 20  # 20 edges\n",
    "\n",
    "G = nx.gnm_random_graph(n, m)\n",
    "\n",
    "# some properties\n",
    "print(\"node | degree | clustering\")\n",
    "for v in nx.nodes(G):\n",
    "    print(f\"{str(v).ljust(4)} | {str(nx.degree(G, v)).ljust(6)} | {nx.clustering(G, v)}\")\n",
    "\n",
    "nx.draw(G, with_labels=True)\n",
    "plt.show()"
   ]
  },
  {
   "cell_type": "markdown",
   "metadata": {
    "id": "5rSFsGq2LLcU"
   },
   "source": [
    "#### ***G(n, p)***"
   ]
  },
  {
   "cell_type": "code",
   "execution_count": null,
   "metadata": {
    "colab": {
     "base_uri": "https://localhost:8080/"
    },
    "id": "sxZEBB8pLlG0",
    "outputId": "9986f9c0-8303-4e18-acce-763706d04091"
   },
   "outputs": [],
   "source": [
    "n = 10   # 10 nodes\n",
    "p = 0.5  # 50% probability\n",
    "\n",
    "G = nx.erdos_renyi_graph(n, p)\n",
    "\n",
    "# some properties\n",
    "print(\"node | degree | clustering\")\n",
    "for v in nx.nodes(G):\n",
    "    print(f\"{str(v).ljust(4)} | {str(nx.degree(G, v)).ljust(6)} | {nx.clustering(G, v)}\")\n",
    "\n",
    "nx.draw(G, with_labels=True)\n",
    "plt.show()"
   ]
  },
  {
   "cell_type": "markdown",
   "metadata": {
    "id": "zLnFVlwTNG8q"
   },
   "source": [
    "## Model Watts-Strogatz\n"
   ]
  },
  {
   "cell_type": "code",
   "execution_count": null,
   "metadata": {
    "colab": {
     "base_uri": "https://localhost:8080/",
     "height": 684
    },
    "id": "z87BfRLiCTvJ",
    "outputId": "85088ce5-16de-4377-ba23-9c72a3b0d2fe"
   },
   "outputs": [],
   "source": [
    "n = 20   # 20 nodes\n",
    "k = 4    # each node is joined with 4 neighbors\n",
    "p = 0.2  # 20% probability\n",
    "\n",
    "G = nx.watts_strogatz_graph(n, k, p)\n",
    "\n",
    "# some properties\n",
    "print(\"node | degree | clustering\")\n",
    "for v in nx.nodes(G):\n",
    "    print(f\"{str(v).ljust(4)} | {str(nx.degree(G, v)).ljust(6)} | {nx.clustering(G, v)}\")\n",
    "\n",
    "nx.draw(G, with_labels=True)\n",
    "plt.show()"
   ]
  }
 ],
 "metadata": {
  "colab": {
   "collapsed_sections": [
    "5rSFsGq2LLcU"
   ],
   "name": "sieci_losowe.ipynb",
   "provenance": []
  },
  "kernelspec": {
   "display_name": "Python 3",
   "language": "python",
   "name": "python3"
  },
  "language_info": {
   "codemirror_mode": {
    "name": "ipython",
    "version": 3
   },
   "file_extension": ".py",
   "mimetype": "text/x-python",
   "name": "python",
   "nbconvert_exporter": "python",
   "pygments_lexer": "ipython3",
   "version": "3.8.5"
  }
 },
 "nbformat": 4,
 "nbformat_minor": 1
}
