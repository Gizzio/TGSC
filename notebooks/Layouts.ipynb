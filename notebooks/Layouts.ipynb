{
 "cells": [
  {
   "cell_type": "markdown",
   "metadata": {},
   "source": [
    "# Loading data"
   ]
  },
  {
   "cell_type": "code",
   "execution_count": null,
   "metadata": {},
   "outputs": [],
   "source": [
    "import matplotlib.pyplot as plt\n",
    "import networkx as nx\n",
    "import random\n",
    "import itertools\n",
    "import math\n",
    "import matplotlib\n",
    "matplotlib.rcParams['figure.figsize'] = (10.0, 6.0)\n",
    "\n",
    "karate_network = nx.karate_club_graph()\n",
    "miserables_network = nx.les_miserables_graph()"
   ]
  },
  {
   "cell_type": "markdown",
   "metadata": {},
   "source": [
    "# Layouts"
   ]
  },
  {
   "cell_type": "markdown",
   "metadata": {},
   "source": [
    "## Random layout"
   ]
  },
  {
   "cell_type": "markdown",
   "metadata": {},
   "source": [
    "#### Karate network"
   ]
  },
  {
   "cell_type": "code",
   "execution_count": null,
   "metadata": {},
   "outputs": [],
   "source": [
    "karate_network"
   ]
  },
  {
   "cell_type": "code",
   "execution_count": null,
   "metadata": {},
   "outputs": [],
   "source": [
    "nx.random_layout(karate_network, seed=10)"
   ]
  },
  {
   "cell_type": "code",
   "execution_count": null,
   "metadata": {},
   "outputs": [],
   "source": [
    "nx.draw(karate_network, nx.random_layout(karate_network, seed=10), with_labels=True, font_weight='bold')"
   ]
  },
  {
   "cell_type": "markdown",
   "metadata": {},
   "source": [
    "## Bipartite"
   ]
  },
  {
   "cell_type": "code",
   "execution_count": null,
   "metadata": {},
   "outputs": [],
   "source": [
    "N_IN_FIRST = 10\n",
    "N_IN_SECOND =5 \n",
    "EGDES = 30\n",
    "\n",
    "bi_graph = nx.bipartite.gnmk_random_graph(N_IN_FIRST, N_IN_SECOND, EGDES, seed=123)\n",
    "nx.bipartite.sets(bi_graph) # gets partition of graph"
   ]
  },
  {
   "cell_type": "code",
   "execution_count": null,
   "metadata": {},
   "outputs": [],
   "source": [
    "pos = nx.bipartite_layout(bi_graph, nodes=nx.bipartite.sets(bi_graph)[0])\n",
    "nx.draw(bi_graph, pos=pos,with_labels=True, font_weight='bold')"
   ]
  },
  {
   "cell_type": "markdown",
   "metadata": {},
   "source": [
    "## Multipartiate layout"
   ]
  },
  {
   "cell_type": "code",
   "execution_count": null,
   "metadata": {},
   "outputs": [],
   "source": [
    "multipartiate_graph = nx.complete_multipartite_graph(5, 4, 7)\n",
    "\n",
    "pos = nx.multipartite_layout(multipartiate_graph)\n",
    "nx.draw(multipartiate_graph, pos=pos)"
   ]
  },
  {
   "cell_type": "markdown",
   "metadata": {},
   "source": [
    "#### Karate network"
   ]
  },
  {
   "cell_type": "code",
   "execution_count": null,
   "metadata": {},
   "outputs": [],
   "source": [
    "#### Karate network# multipartite_layout(G, subset_key='subset', align='vertical', scale=1, center=None)\n",
    "\n",
    "random.seed(11)\n",
    "\n",
    "# let's assign random classification for each node from the {0, 1, 2, 3} set\n",
    "for i in range(len(karate_network.nodes)):\n",
    "    karate_network.nodes[i]['subset'] = random.randint(0, 3)\n",
    "\n",
    "pos = nx.multipartite_layout(karate_network)\n",
    "nx.draw(karate_network, pos=pos, with_labels=True, font_weight='bold')"
   ]
  },
  {
   "cell_type": "markdown",
   "metadata": {},
   "source": [
    "## Circular layout"
   ]
  },
  {
   "cell_type": "markdown",
   "metadata": {},
   "source": [
    "#### Karate network"
   ]
  },
  {
   "cell_type": "code",
   "execution_count": null,
   "metadata": {},
   "outputs": [],
   "source": [
    "nx.draw(karate_network,nx.circular_layout(karate_network),with_labels=True)"
   ]
  },
  {
   "cell_type": "markdown",
   "metadata": {},
   "source": [
    "#### Les miserables network"
   ]
  },
  {
   "cell_type": "code",
   "execution_count": null,
   "metadata": {},
   "outputs": [],
   "source": [
    "nx.draw(miserables_network,nx.circular_layout(miserables_network))"
   ]
  },
  {
   "cell_type": "markdown",
   "metadata": {},
   "source": [
    "## Shell layout"
   ]
  },
  {
   "cell_type": "code",
   "execution_count": null,
   "metadata": {},
   "outputs": [],
   "source": [
    "SHELLS_NUM = 5\n",
    "\n",
    "nodes = list(karate_network.nodes)\n",
    "shells_partition = [\n",
    "    list(g)\n",
    "    for k, g in itertools.groupby(\n",
    "        nodes, lambda i: i // math.ceil(len(nodes) / SHELLS_NUM)\n",
    "    )\n",
    "]  # splitting list into SHELLS_NUM equal lists"
   ]
  },
  {
   "cell_type": "code",
   "execution_count": null,
   "metadata": {},
   "outputs": [],
   "source": [
    "shells_partition"
   ]
  },
  {
   "cell_type": "markdown",
   "metadata": {},
   "source": [
    "#### Karate network"
   ]
  },
  {
   "cell_type": "code",
   "execution_count": null,
   "metadata": {},
   "outputs": [],
   "source": [
    "nx.draw(karate_network, nx.shell_layout(karate_network, shells_partition), with_labels=True)"
   ]
  },
  {
   "cell_type": "markdown",
   "metadata": {},
   "source": [
    "## Spiral layout"
   ]
  },
  {
   "cell_type": "markdown",
   "metadata": {},
   "source": [
    "#### Karate network"
   ]
  },
  {
   "cell_type": "code",
   "execution_count": null,
   "metadata": {},
   "outputs": [],
   "source": [
    "positions = nx.spiral_layout(karate_network)\n",
    "nx.draw(karate_network, pos=positions, with_labels=True)"
   ]
  },
  {
   "cell_type": "markdown",
   "metadata": {},
   "source": [
    "## Planar layout"
   ]
  },
  {
   "cell_type": "code",
   "execution_count": null,
   "metadata": {},
   "outputs": [],
   "source": [
    "# planar_layout(G, scale=1, center=None, dim=2)\n",
    "\n",
    "# let's use K4, because neither graph G nor L are planar\n",
    "K4 = nx.complete_graph(4)\n",
    "pos = nx.planar_layout(K4)\n",
    "nx.draw(K4, pos=pos, with_labels=True, font_weight='bold')"
   ]
  },
  {
   "cell_type": "markdown",
   "metadata": {},
   "source": [
    "## Spectral layout"
   ]
  },
  {
   "cell_type": "markdown",
   "metadata": {},
   "source": [
    "#### Les miserables network"
   ]
  },
  {
   "cell_type": "code",
   "execution_count": null,
   "metadata": {},
   "outputs": [],
   "source": [
    "#spectral_layout(G, weight='weight', scale=1, center=None, dim=2)\n",
    "\n",
    "# the clusteing is better seen on the miserables_network\n",
    "pos = nx.spectral_layout(miserables_network)\n",
    "nx.draw(miserables_network, pos=pos, with_labels=True)"
   ]
  },
  {
   "cell_type": "code",
   "execution_count": null,
   "metadata": {},
   "outputs": [],
   "source": [
    "pos = nx.spectral_layout(karate_network)\n",
    "nx.draw(karate_network, pos=pos, with_labels=True)"
   ]
  },
  {
   "cell_type": "code",
   "execution_count": null,
   "metadata": {},
   "outputs": [],
   "source": [
    "# compare with an unmodified layout of the graph\n",
    "nx.draw(miserables_network, with_labels=True)"
   ]
  },
  {
   "cell_type": "markdown",
   "metadata": {},
   "source": [
    "## Kamada-kawai layout"
   ]
  },
  {
   "cell_type": "markdown",
   "metadata": {},
   "source": [
    "#### Karate network"
   ]
  },
  {
   "cell_type": "code",
   "execution_count": null,
   "metadata": {},
   "outputs": [],
   "source": [
    "positions = nx.kamada_kawai_layout(karate_network)\n",
    "nx.draw(karate_network, pos=positions, with_labels=True)"
   ]
  },
  {
   "cell_type": "markdown",
   "metadata": {},
   "source": [
    "#### Les miserables network"
   ]
  },
  {
   "cell_type": "code",
   "execution_count": null,
   "metadata": {},
   "outputs": [],
   "source": [
    "positions = nx.kamada_kawai_layout(miserables_network)\n",
    "nx.draw(miserables_network, pos=positions, with_labels=True)"
   ]
  },
  {
   "cell_type": "markdown",
   "metadata": {},
   "source": [
    "## Spring layout"
   ]
  },
  {
   "cell_type": "markdown",
   "metadata": {},
   "source": [
    "#### Karate network"
   ]
  },
  {
   "cell_type": "code",
   "execution_count": null,
   "metadata": {},
   "outputs": [],
   "source": [
    "#### Karate network# spring_layout(G, k=None, pos=None, fixed=None, iterations=50, threshold=0.0001, weight='weight',\n",
    "#     scale=1, center=None, dim=2, seed=None)\n",
    "\n",
    "pos = nx.spring_layout(karate_network, iterations=50, seed=11)\n",
    "nx.draw(karate_network, pos=pos, with_labels=True, font_weight='bold')"
   ]
  },
  {
   "cell_type": "code",
   "execution_count": null,
   "metadata": {},
   "outputs": [],
   "source": [
    "# compare with the starting layout of the graph\n",
    "pos = nx.spring_layout(karate_network, iterations=0, seed=11)\n",
    "nx.draw(karate_network, pos=pos, with_labels=True, font_weight='bold')"
   ]
  },
  {
   "cell_type": "code",
   "execution_count": null,
   "metadata": {},
   "outputs": [],
   "source": []
  }
 ],
 "metadata": {
  "kernelspec": {
   "display_name": "Python 3",
   "language": "python",
   "name": "python3"
  },
  "language_info": {
   "codemirror_mode": {
    "name": "ipython",
    "version": 3
   },
   "file_extension": ".py",
   "mimetype": "text/x-python",
   "name": "python",
   "nbconvert_exporter": "python",
   "pygments_lexer": "ipython3",
   "version": "3.8.3"
  }
 },
 "nbformat": 4,
 "nbformat_minor": 4
}
